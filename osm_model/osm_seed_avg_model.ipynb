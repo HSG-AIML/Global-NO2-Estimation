{
 "cells": [
  {
   "cell_type": "code",
   "execution_count": 1,
   "metadata": {},
   "outputs": [],
   "source": [
    "import os\n",
    "\n",
    "os.environ[\"OMP_NUM_THREADS\"] = \"6\" # export OMP_NUM_THREADS=4\n",
    "os.environ[\"OPENBLAS_NUM_THREADS\"] = \"6\" # export OPENBLAS_NUM_THREADS=4\n",
    "os.environ[\"MKL_NUM_THREADS\"] = \"6\" # export MKL_NUM_THREADS=6\n",
    "os.environ[\"VECLIB_MAXIMUM_THREADS\"] = \"6\" # export VECLIB_MAXIMUM_THREADS=4\n",
    "os.environ[\"NUMEXPR_NUM_THREADS\"] = \"6\" # export NUMEXPR_NUM_THREADS=6"
   ]
  },
  {
   "cell_type": "code",
   "execution_count": 2,
   "metadata": {},
   "outputs": [],
   "source": [
    "import pandas as pd\n",
    "import numpy as np\n",
    "import os\n",
    "import glob\n",
    "from tqdm import tqdm\n",
    "import matplotlib.pyplot as plt\n",
    "import matplotlib.cm as cm\n",
    "import cartopy.crs as ccrs\n",
    "import matplotlib\n",
    "import xgboost as xgb\n",
    "import json\n",
    "\n",
    "from sklearn.preprocessing import StandardScaler, MinMaxScaler\n",
    "import joblib \n",
    "from sklearn.model_selection import train_test_split, cross_val_score, GridSearchCV\n",
    "from sklearn.metrics import r2_score, mean_squared_error, mean_absolute_error"
   ]
  },
  {
   "cell_type": "code",
   "execution_count": 7,
   "metadata": {},
   "outputs": [
    {
     "name": "stdout",
     "output_type": "stream",
     "text": [
      "seed: 0\n",
      "0.32810027833281474\t6.888427654365532\t80.84449135920842\n",
      "seed: 1\n",
      "0.34125055271279703\t7.349426626605897\t98.34667455300959\n",
      "seed: 2\n",
      "0.40944226227987524\t7.008758459764044\t82.87968381854576\n",
      "seed: 3\n",
      "0.37099557390781934\t7.079578703995882\t87.98409883482739\n",
      "seed: 4\n",
      "0.33285717362033795\t7.163391731758868\t82.84915787147018\n",
      "seed: 5\n",
      "0.2951510284898994\t7.415094868598514\t91.76044645013154\n",
      "seed: 6\n",
      "0.38337902396545487\t7.554821027928674\t98.92564143548651\n",
      "seed: 7\n",
      "0.34728027186488586\t7.137088645571832\t83.13599283327596\n",
      "seed: 8\n",
      "0.3637190173367868\t7.294919264998245\t91.73357056147705\n",
      "seed: 9\n",
      "0.3898556725550444\t7.139351322292339\t88.7852517074278\n"
     ]
    }
   ],
   "source": [
    "r2s_train, mses_train, maes_train = [], [], []\n",
    "r2s_test, mses_test, maes_test = [], [], []\n",
    "r2s_val, mses_val, maes_val = [], [], []\n",
    "\n",
    "for seed in range(10):\n",
    "    np.random.seed(seed)\n",
    "    complete_df = pd.read_csv(\"../data/local_no2_osm.csv\")\n",
    "    \n",
    "    scaler = StandardScaler()\n",
    "    scaler_target = StandardScaler()\n",
    "    \n",
    "    complete_df[[\"nature_osm_score_scaled\", \"manmade_osm_score_scaled\", \"road_distance_osm_scaled\"]] = pd.DataFrame(scaler.fit_transform(complete_df[[\"nature_osm_score\", \"manmade_osm_score\", \"road_distance_osm\"]]))\n",
    "    complete_df[\"no2_average_scaled\"] = scaler_target.fit_transform(complete_df[\"no2_average\"].values.reshape(-1,1))\n",
    "    \n",
    "    train, test = train_test_split(complete_df, test_size=0.4)\n",
    "    test, val = train_test_split(test, test_size=0.5)\n",
    "\n",
    "    train_data = xgb.DMatrix(data=train[[\"manmade_osm_score_scaled\", \"nature_osm_score_scaled\", \"road_distance_osm_scaled\"]], label=train.no2_average_scaled)\n",
    "    test_data = xgb.DMatrix(data=test[[\"manmade_osm_score_scaled\", \"nature_osm_score_scaled\", \"road_distance_osm_scaled\"]], label=test.no2_average_scaled)\n",
    "    val_data = xgb.DMatrix(data=val[[\"manmade_osm_score_scaled\", \"nature_osm_score_scaled\", \"road_distance_osm_scaled\"]], label=val.no2_average_scaled) \n",
    "     \n",
    "    param = {\n",
    "        'eta': 0.5,\n",
    "        'gamma': 10,\n",
    "        'max_depth': 6,\n",
    "        'objective': 'reg:squarederror',\n",
    "        'subsample': 1,\n",
    "    }\n",
    "    \n",
    "    num_round = 50\n",
    "    bst = xgb.train(param, train_data, num_round)\n",
    "    \n",
    "    ypred = scaler_target.inverse_transform(bst.predict(test_data).reshape(-1,1))\n",
    "    ypred_train = scaler_target.inverse_transform(bst.predict(train_data).reshape(-1, 1))\n",
    "    ypred_val = scaler_target.inverse_transform(bst.predict(val_data).reshape(-1, 1))\n",
    "    \n",
    "    r2_val = r2_score(val.no2_average, ypred_val)\n",
    "    mse_val = mean_squared_error(val.no2_average, ypred_val)\n",
    "    mae_val = mean_absolute_error(val.no2_average, ypred_val)\n",
    "    \n",
    "    r2_test = r2_score(test.no2_average, ypred)\n",
    "    mse_test = mean_squared_error(test.no2_average, ypred)\n",
    "    mae_test = mean_absolute_error(test.no2_average, ypred)\n",
    "    \n",
    "    r2_train = r2_score(train.no2_average, ypred_train)\n",
    "    mse_train = mean_squared_error(train.no2_average, ypred_train)\n",
    "    mae_train = mean_absolute_error(train.no2_average, ypred_train)\n",
    "    \n",
    "    r2s_val.append(r2_val)\n",
    "    r2s_test.append(r2_test)\n",
    "    r2s_train.append(r2_train)\n",
    "    \n",
    "    mses_val.append(mse_val)\n",
    "    mses_test.append(mse_test)\n",
    "    mses_train.append(mse_train)\n",
    "    \n",
    "    maes_val.append(mae_val)\n",
    "    maes_test.append(mae_test)\n",
    "    maes_train.append(mae_train)\n",
    "    \n",
    "    print(f\"seed: {seed}\")\n",
    "    print(\"\\t\".join(map(str, [r2_test, mae_test, mse_test])))"
   ]
  },
  {
   "cell_type": "code",
   "execution_count": 8,
   "metadata": {},
   "outputs": [
    {
     "name": "stdout",
     "output_type": "stream",
     "text": [
      "R2: 0.35620308550657154 $\\pm$ 0.03216534317102479\n"
     ]
    }
   ],
   "source": [
    "print(\"R2:\", np.array(r2s_test).mean(), \"$\\pm$\", np.array(r2s_test).std())"
   ]
  },
  {
   "cell_type": "code",
   "execution_count": 9,
   "metadata": {},
   "outputs": [
    {
     "name": "stdout",
     "output_type": "stream",
     "text": [
      "MAE: 7.203085830587983 pm 0.18987752162770788\n"
     ]
    }
   ],
   "source": [
    "print(\"MAE:\", np.array(maes_test).mean(), \"pm\", np.array(maes_test).std())"
   ]
  },
  {
   "cell_type": "code",
   "execution_count": 10,
   "metadata": {},
   "outputs": [
    {
     "name": "stdout",
     "output_type": "stream",
     "text": [
      "MSE: 88.72450094248603 pm 6.143943039420835\n"
     ]
    }
   ],
   "source": [
    "print(\"MSE:\", np.array(mses_test).mean(), \"pm\", np.array(mses_test).std())"
   ]
  },
  {
   "cell_type": "code",
   "execution_count": 11,
   "metadata": {},
   "outputs": [
    {
     "data": {
      "image/png": "[encoded data removed]",
      "text/plain": [
       "<Figure size 1080x360 with 3 Axes>"
      ]
     },
     "metadata": {
      "needs_background": "light"
     },
     "output_type": "display_data"
    }
   ],
   "source": [
    "fig, (ax1, ax2, ax3) = plt.subplots(1, 3, figsize=(15, 5))\n",
    "ax1.bar(range(len(r2s_test)), r2s_test)\n",
    "ax1.set_title(\"R2 test set\")\n",
    "ax1.set_xlabel(\"Seed\")\n",
    "\n",
    "ax2.bar(range(len(maes_test)), maes_test)\n",
    "ax2.set_title(\"MAE test set\")\n",
    "ax2.set_xlabel(\"Seed\")\n",
    "\n",
    "ax3.bar(range(len(mses_test)), mses_test)\n",
    "ax3.set_title(\"MSE test set\")\n",
    "ax3.set_xlabel(\"Seed\")\n",
    "\n",
    "plt.show()"
   ]
  },
  {
   "cell_type": "code",
   "execution_count": 12,
   "metadata": {},
   "outputs": [
    {
     "data": {
      "image/png": "[encoded data removed]",
      "text/plain": [
       "<Figure size 1080x360 with 3 Axes>"
      ]
     },
     "metadata": {
      "needs_background": "light"
     },
     "output_type": "display_data"
    }
   ],
   "source": [
    "fig, (ax1, ax2, ax3) = plt.subplots(1, 3, figsize=(15, 5))\n",
    "ax1.bar(range(len(r2s_train)), r2s_train)\n",
    "ax1.set_title(\"R2 train set\")\n",
    "ax1.set_xlabel(\"Seed\")\n",
    "\n",
    "ax2.bar(range(len(maes_train)), maes_train)\n",
    "ax2.set_title(\"MAE train set\")\n",
    "ax2.set_xlabel(\"Seed\")\n",
    "\n",
    "ax3.bar(range(len(mses_train)), mses_train)\n",
    "ax3.set_title(\"MSE train set\")\n",
    "ax3.set_xlabel(\"Seed\")\n",
    "\n",
    "plt.show()"
   ]
  },
  {
   "cell_type": "code",
   "execution_count": 13,
   "metadata": {},
   "outputs": [
    {
     "data": {
      "image/png": "[encoded data removed]",
      "text/plain": [
       "<Figure size 1080x360 with 3 Axes>"
      ]
     },
     "metadata": {
      "needs_background": "light"
     },
     "output_type": "display_data"
    }
   ],
   "source": [
    "fig, (ax1, ax2, ax3) = plt.subplots(1, 3, figsize=(15, 5))\n",
    "ax1.bar(range(len(r2s_val)), r2s_val)\n",
    "ax1.set_title(\"R2 val set\")\n",
    "ax1.set_xlabel(\"Seed\")\n",
    "\n",
    "ax2.bar(range(len(maes_val)), maes_val)\n",
    "ax2.set_title(\"MAE val set\")\n",
    "ax2.set_xlabel(\"Seed\")\n",
    "\n",
    "ax3.bar(range(len(mses_val)), mses_val)\n",
    "ax3.set_title(\"MSE val set\")\n",
    "ax3.set_xlabel(\"Seed\")\n",
    "\n",
    "plt.show()"
   ]
  },
  {
   "cell_type": "code",
   "execution_count": null,
   "metadata": {},
   "outputs": [],
   "source": []
  }
 ],
 "metadata": {
  "kernelspec": {
   "display_name": "atmos-env",
   "language": "python",
   "name": "atmos-env"
  },
  "language_info": {
   "codemirror_mode": {
    "name": "ipython",
    "version": 3
   },
   "file_extension": ".py",
   "mimetype": "text/x-python",
   "name": "python",
   "nbconvert_exporter": "python",
   "pygments_lexer": "ipython3",
   "version": "3.8.2"
  }
 },
 "nbformat": 4,
 "nbformat_minor": 4
}
