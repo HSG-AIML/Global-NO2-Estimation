{
 "cells": [
  {
   "cell_type": "code",
   "execution_count": 2,
   "metadata": {},
   "outputs": [],
   "source": [
    "import os\n",
    "\n",
    "os.environ[\"OMP_NUM_THREADS\"] = \"6\" # export OMP_NUM_THREADS=4\n",
    "os.environ[\"OPENBLAS_NUM_THREADS\"] = \"6\" # export OPENBLAS_NUM_THREADS=4\n",
    "os.environ[\"MKL_NUM_THREADS\"] = \"6\" # export MKL_NUM_THREADS=6\n",
    "os.environ[\"VECLIB_MAXIMUM_THREADS\"] = \"6\" # export VECLIB_MAXIMUM_THREADS=4\n",
    "os.environ[\"NUMEXPR_NUM_THREADS\"] = \"6\" # export NUMEXPR_NUM_THREADS=6"
   ]
  },
  {
   "cell_type": "code",
   "execution_count": 3,
   "metadata": {},
   "outputs": [],
   "source": [
    "import pandas as pd\n",
    "import geopandas as gpd\n",
    "import numpy as np\n",
    "import os\n",
    "import glob\n",
    "from tqdm import tqdm\n",
    "import matplotlib.pyplot as plt\n",
    "import matplotlib.cm as cm\n",
    "import cartopy.crs as ccrs\n",
    "import matplotlib\n",
    "import xgboost as xgb\n",
    "import json\n",
    "\n",
    "from sklearn.preprocessing import StandardScaler, MinMaxScaler\n",
    "\n",
    "from sklearn.model_selection import train_test_split, cross_val_score, GridSearchCV\n",
    "from sklearn.metrics import r2_score, mean_squared_error, mean_absolute_error"
   ]
  },
  {
   "cell_type": "code",
   "execution_count": 13,
   "metadata": {},
   "outputs": [
    {
     "name": "stdout",
     "output_type": "stream",
     "text": [
      "seed: 0\n",
      "0.6293527795819569\t4.949609954594662\t44.59711031588085\n",
      "seed: 1\n",
      "0.6417636729095677\t5.338815979659962\t53.482172347186804\n",
      "seed: 2\n",
      "0.6614439835961522\t5.118027386387157\t47.51341622030381\n",
      "seed: 3\n",
      "0.6380831246055962\t5.266342993130963\t50.62433396935516\n",
      "seed: 4\n",
      "0.6683715934439944\t4.954969856543429\t41.183286581255786\n",
      "seed: 5\n",
      "0.6109853796008599\t5.2900612168157455\t50.64369345248029\n",
      "seed: 6\n",
      "0.6828741715700142\t5.456379966370645\t50.877082052814956\n",
      "seed: 7\n",
      "0.6330707572229031\t5.116598211304988\t46.73526106678595\n",
      "seed: 8\n",
      "0.6624206603009539\t5.234952535931995\t48.66931280699687\n",
      "seed: 9\n",
      "0.6847460577415987\t5.072836130411295\t45.87422902443715\n"
     ]
    }
   ],
   "source": [
    "r2s_train, mses_train, maes_train = [], [], []\n",
    "r2s_test, mses_test, maes_test = [], [], []\n",
    "r2s_val, mses_val, maes_val = [], [], []\n",
    "\n",
    "for seed in range(10):\n",
    "    np.random.seed(seed)\n",
    "    \n",
    "    # load NO2 data\n",
    "    complete_df = pd.read_csv(\"../data/local_no2_data.csv\").drop_duplicates()\n",
    "    \n",
    "    scaler = StandardScaler()\n",
    "    scaler_target = StandardScaler()\n",
    "    \n",
    "    # add one-hot encoding\n",
    "    X = pd.get_dummies(complete_df, columns=[\"Countrycode\", \"AreaType\", \"StationType\"], drop_first=False)\n",
    "    X[[\"altitude_scaled\", \"population_density_scaled\"]] = pd.DataFrame(scaler.fit_transform(X[[\"Altitude\", \"PopulationDensity\"]]))\n",
    "    X[\"no2_average_scaled\"] = scaler_target.fit_transform(X[\"no2_average\"].values.reshape(-1,1))\n",
    "\n",
    "    X.drop([\"AirQualityStation\", \"Altitude\", \"PopulationDensity\"], axis=1, inplace=True)\n",
    "\n",
    "    train, test = train_test_split(X, test_size=0.4)\n",
    "    test, val = train_test_split(test, test_size=0.5)\n",
    "    \n",
    "    train_data = xgb.DMatrix(data=train.drop([\"no2_average\", \"no2_average_scaled\"], axis=1), label=train.no2_average_scaled)\n",
    "    test_data = xgb.DMatrix(data=test.drop([\"no2_average\", \"no2_average_scaled\"], axis=1), label=test.no2_average_scaled)\n",
    "    val_data = xgb.DMatrix(data=val.drop([\"no2_average\", \"no2_average_scaled\"], axis=1), label=val.no2_average_scaled) \n",
    "    \n",
    "    param = {'eta': 0.4, # from grid search in local_baseline_whole_timespan.ipynb\n",
    "             'gamma': 1,\n",
    "             'max_depth': 4,\n",
    "             'objective': 'reg:squarederror',\n",
    "             'subsample': 1,\n",
    "            }\n",
    "    \n",
    "    num_round = 50\n",
    "    bst = xgb.train(param, train_data, num_round)\n",
    "    \n",
    "    ypred = scaler_target.inverse_transform(bst.predict(test_data).reshape(-1,1))\n",
    "    ypred_train = scaler_target.inverse_transform(bst.predict(train_data).reshape(-1, 1))\n",
    "    ypred_val = scaler_target.inverse_transform(bst.predict(val_data).reshape(-1, 1))\n",
    "    \n",
    "    r2_val = r2_score(val.no2_average, ypred_val)\n",
    "    mse_val = mean_squared_error(val.no2_average, ypred_val)\n",
    "    mae_val = mean_absolute_error(val.no2_average, ypred_val)\n",
    "    \n",
    "    r2_test = r2_score(test.no2_average, ypred)\n",
    "    mse_test = mean_squared_error(test.no2_average, ypred)\n",
    "    mae_test = mean_absolute_error(test.no2_average, ypred)\n",
    "    \n",
    "    r2_train = r2_score(train.no2_average, ypred_train)\n",
    "    mse_train = mean_squared_error(train.no2_average, ypred_train)\n",
    "    mae_train = mean_absolute_error(train.no2_average, ypred_train)\n",
    "    \n",
    "    r2s_val.append(r2_val)\n",
    "    r2s_test.append(r2_test)\n",
    "    r2s_train.append(r2_train)\n",
    "    \n",
    "    mses_val.append(mse_val)\n",
    "    mses_test.append(mse_test)\n",
    "    mses_train.append(mse_train)\n",
    "    \n",
    "    maes_val.append(mae_val)\n",
    "    maes_test.append(mae_test)\n",
    "    maes_train.append(mae_train)\n",
    "    \n",
    "    print(f\"seed: {seed}\")\n",
    "    print(\"\\t\".join(map(str, [r2_test, mae_test, mse_test])))"
   ]
  },
  {
   "cell_type": "code",
   "execution_count": 14,
   "metadata": {},
   "outputs": [
    {
     "name": "stdout",
     "output_type": "stream",
     "text": [
      "R2: 0.6513112180573597 $\\pm$ 0.023105099752181057\n"
     ]
    }
   ],
   "source": [
    "print(\"R2:\", np.array(r2s_test).mean(), \"$\\pm$\", np.array(r2s_test).std())"
   ]
  },
  {
   "cell_type": "code",
   "execution_count": 15,
   "metadata": {},
   "outputs": [
    {
     "name": "stdout",
     "output_type": "stream",
     "text": [
      "MAE: 5.179859423115085 pm 0.15724477536053058\n"
     ]
    }
   ],
   "source": [
    "print(\"MAE:\", np.array(maes_test).mean(), \"pm\", np.array(maes_test).std())"
   ]
  },
  {
   "cell_type": "code",
   "execution_count": 16,
   "metadata": {},
   "outputs": [
    {
     "name": "stdout",
     "output_type": "stream",
     "text": [
      "MSE: 48.019989783749764 pm 3.42132303320401\n"
     ]
    }
   ],
   "source": [
    "print(\"MSE:\", np.array(mses_test).mean(), \"pm\", np.array(mses_test).std())"
   ]
  },
  {
   "cell_type": "code",
   "execution_count": 17,
   "metadata": {},
   "outputs": [
    {
     "data": {
      "image/png": "[encoded data removed]",
      "text/plain": [
       "<Figure size 1080x360 with 3 Axes>"
      ]
     },
     "metadata": {
      "needs_background": "light"
     },
     "output_type": "display_data"
    }
   ],
   "source": [
    "fig, (ax1, ax2, ax3) = plt.subplots(1, 3, figsize=(15, 5))\n",
    "ax1.bar(range(len(r2s_test)), r2s_test)\n",
    "ax1.set_title(\"R2 test set\")\n",
    "ax1.set_xlabel(\"Seed\")\n",
    "\n",
    "ax2.bar(range(len(maes_test)), maes_test)\n",
    "ax2.set_title(\"MAE test set\")\n",
    "ax2.set_xlabel(\"Seed\")\n",
    "\n",
    "ax3.bar(range(len(mses_test)), mses_test)\n",
    "ax3.set_title(\"MSE test set\")\n",
    "ax3.set_xlabel(\"Seed\")\n",
    "\n",
    "plt.show()"
   ]
  },
  {
   "cell_type": "code",
   "execution_count": 18,
   "metadata": {},
   "outputs": [
    {
     "data": {
      "image/png": "[encoded data removed]",
      "text/plain": [
       "<Figure size 1080x360 with 3 Axes>"
      ]
     },
     "metadata": {
      "needs_background": "light"
     },
     "output_type": "display_data"
    }
   ],
   "source": [
    "fig, (ax1, ax2, ax3) = plt.subplots(1, 3, figsize=(15, 5))\n",
    "ax1.bar(range(len(r2s_train)), r2s_train)\n",
    "ax1.set_title(\"R2 train set\")\n",
    "ax1.set_xlabel(\"Seed\")\n",
    "\n",
    "ax2.bar(range(len(maes_train)), maes_train)\n",
    "ax2.set_title(\"MAE train set\")\n",
    "ax2.set_xlabel(\"Seed\")\n",
    "\n",
    "ax3.bar(range(len(mses_train)), mses_train)\n",
    "ax3.set_title(\"MSE train set\")\n",
    "ax3.set_xlabel(\"Seed\")\n",
    "\n",
    "plt.show()"
   ]
  },
  {
   "cell_type": "code",
   "execution_count": 19,
   "metadata": {},
   "outputs": [
    {
     "data": {
      "image/png": "[encoded data removed]",
      "text/plain": [
       "<Figure size 1080x360 with 3 Axes>"
      ]
     },
     "metadata": {
      "needs_background": "light"
     },
     "output_type": "display_data"
    }
   ],
   "source": [
    "fig, (ax1, ax2, ax3) = plt.subplots(1, 3, figsize=(15, 5))\n",
    "ax1.bar(range(len(r2s_val)), r2s_val)\n",
    "ax1.set_title(\"R2 val set\")\n",
    "ax1.set_xlabel(\"Seed\")\n",
    "\n",
    "ax2.bar(range(len(maes_val)), maes_val)\n",
    "ax2.set_title(\"MAE val set\")\n",
    "ax2.set_xlabel(\"Seed\")\n",
    "\n",
    "ax3.bar(range(len(mses_val)), mses_val)\n",
    "ax3.set_title(\"MSE val set\")\n",
    "ax3.set_xlabel(\"Seed\")\n",
    "\n",
    "plt.show()"
   ]
  },
  {
   "cell_type": "code",
   "execution_count": null,
   "metadata": {},
   "outputs": [],
   "source": []
  }
 ],
 "metadata": {
  "kernelspec": {
   "display_name": "atmos-env",
   "language": "python",
   "name": "atmos-env"
  },
  "language_info": {
   "codemirror_mode": {
    "name": "ipython",
    "version": 3
   },
   "file_extension": ".py",
   "mimetype": "text/x-python",
   "name": "python",
   "nbconvert_exporter": "python",
   "pygments_lexer": "ipython3",
   "version": "3.8.2"
  }
 },
 "nbformat": 4,
 "nbformat_minor": 4
}
