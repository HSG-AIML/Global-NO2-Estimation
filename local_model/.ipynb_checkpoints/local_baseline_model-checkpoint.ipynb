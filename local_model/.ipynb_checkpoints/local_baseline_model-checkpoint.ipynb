{
 "cells": [
  {
   "cell_type": "code",
   "execution_count": 1,
   "metadata": {},
   "outputs": [],
   "source": [
    "import os\n",
    "\n",
    "os.environ[\"OMP_NUM_THREADS\"] = \"6\" # export OMP_NUM_THREADS=4\n",
    "os.environ[\"OPENBLAS_NUM_THREADS\"] = \"6\" # export OPENBLAS_NUM_THREADS=4\n",
    "os.environ[\"MKL_NUM_THREADS\"] = \"6\" # export MKL_NUM_THREADS=6\n",
    "os.environ[\"VECLIB_MAXIMUM_THREADS\"] = \"6\" # export VECLIB_MAXIMUM_THREADS=4\n",
    "os.environ[\"NUMEXPR_NUM_THREADS\"] = \"6\" # export NUMEXPR_NUM_THREADS=6"
   ]
  },
  {
   "cell_type": "code",
   "execution_count": 2,
   "metadata": {},
   "outputs": [],
   "source": [
    "import pandas as pd\n",
    "import geopandas as gpd\n",
    "import numpy as np\n",
    "import os\n",
    "import glob\n",
    "from tqdm import tqdm\n",
    "import matplotlib.pyplot as plt\n",
    "import matplotlib.cm as cm\n",
    "import cartopy.crs as ccrs\n",
    "import matplotlib\n",
    "import xgboost as xgb\n",
    "import json\n",
    "\n",
    "from sklearn.preprocessing import StandardScaler, MinMaxScaler\n",
    "\n",
    "from sklearn.model_selection import train_test_split, cross_val_score, GridSearchCV\n",
    "from sklearn.metrics import r2_score, mean_squared_error, mean_absolute_error"
   ]
  },
  {
   "cell_type": "code",
   "execution_count": 5,
   "metadata": {},
   "outputs": [],
   "source": [
    "# load NO2 data\n",
    "complete_df = pd.read_csv(\"../data/local_no2_data.csv\").drop_duplicates()"
   ]
  },
  {
   "cell_type": "code",
   "execution_count": 6,
   "metadata": {},
   "outputs": [
    {
     "data": {
      "text/html": [
       "<div>\n",
       "<style scoped>\n",
       "    .dataframe tbody tr th:only-of-type {\n",
       "        vertical-align: middle;\n",
       "    }\n",
       "\n",
       "    .dataframe tbody tr th {\n",
       "        vertical-align: top;\n",
       "    }\n",
       "\n",
       "    .dataframe thead th {\n",
       "        text-align: right;\n",
       "    }\n",
       "</style>\n",
       "<table border=\"1\" class=\"dataframe\">\n",
       "  <thead>\n",
       "    <tr style=\"text-align: right;\">\n",
       "      <th></th>\n",
       "      <th>AirQualityStation</th>\n",
       "      <th>Countrycode</th>\n",
       "      <th>Altitude</th>\n",
       "      <th>AreaType</th>\n",
       "      <th>StationType</th>\n",
       "      <th>PopulationDensity</th>\n",
       "      <th>no2_average</th>\n",
       "    </tr>\n",
       "  </thead>\n",
       "  <tbody>\n",
       "    <tr>\n",
       "      <th>0</th>\n",
       "      <td>STA.DE_DEBW087</td>\n",
       "      <td>DE</td>\n",
       "      <td>798.0</td>\n",
       "      <td>rural-regional</td>\n",
       "      <td>background</td>\n",
       "      <td>262.1</td>\n",
       "      <td>7.242142</td>\n",
       "    </tr>\n",
       "    <tr>\n",
       "      <th>1</th>\n",
       "      <td>STA.DE_DEBB067</td>\n",
       "      <td>DE</td>\n",
       "      <td>31.0</td>\n",
       "      <td>suburban</td>\n",
       "      <td>background</td>\n",
       "      <td>94.6</td>\n",
       "      <td>13.814766</td>\n",
       "    </tr>\n",
       "    <tr>\n",
       "      <th>2</th>\n",
       "      <td>STA.DE_DEBB066</td>\n",
       "      <td>DE</td>\n",
       "      <td>52.0</td>\n",
       "      <td>rural-regional</td>\n",
       "      <td>background</td>\n",
       "      <td>76.2</td>\n",
       "      <td>8.665383</td>\n",
       "    </tr>\n",
       "    <tr>\n",
       "      <th>3</th>\n",
       "      <td>STA.DE_DEBB065</td>\n",
       "      <td>DE</td>\n",
       "      <td>111.0</td>\n",
       "      <td>rural-regional</td>\n",
       "      <td>background</td>\n",
       "      <td>84.0</td>\n",
       "      <td>9.190738</td>\n",
       "    </tr>\n",
       "    <tr>\n",
       "      <th>4</th>\n",
       "      <td>STA.DE_DEBB064</td>\n",
       "      <td>DE</td>\n",
       "      <td>75.0</td>\n",
       "      <td>urban</td>\n",
       "      <td>background</td>\n",
       "      <td>609.9</td>\n",
       "      <td>13.122752</td>\n",
       "    </tr>\n",
       "    <tr>\n",
       "      <th>...</th>\n",
       "      <td>...</td>\n",
       "      <td>...</td>\n",
       "      <td>...</td>\n",
       "      <td>...</td>\n",
       "      <td>...</td>\n",
       "      <td>...</td>\n",
       "      <td>...</td>\n",
       "    </tr>\n",
       "    <tr>\n",
       "      <th>2988</th>\n",
       "      <td>STA.DE_DENW136</td>\n",
       "      <td>DE</td>\n",
       "      <td>80.0</td>\n",
       "      <td>urban</td>\n",
       "      <td>traffic</td>\n",
       "      <td>2095.7</td>\n",
       "      <td>51.258432</td>\n",
       "    </tr>\n",
       "    <tr>\n",
       "      <th>2989</th>\n",
       "      <td>STA-RO0159A</td>\n",
       "      <td>RO</td>\n",
       "      <td>22.0</td>\n",
       "      <td>urban</td>\n",
       "      <td>background</td>\n",
       "      <td>59.2</td>\n",
       "      <td>32.352209</td>\n",
       "    </tr>\n",
       "    <tr>\n",
       "      <th>2990</th>\n",
       "      <td>STA.DE_DERP041</td>\n",
       "      <td>DE</td>\n",
       "      <td>94.0</td>\n",
       "      <td>urban</td>\n",
       "      <td>traffic</td>\n",
       "      <td>2263.7</td>\n",
       "      <td>39.958452</td>\n",
       "    </tr>\n",
       "    <tr>\n",
       "      <th>2991</th>\n",
       "      <td>STA.DE_DENW112</td>\n",
       "      <td>DE</td>\n",
       "      <td>36.0</td>\n",
       "      <td>urban</td>\n",
       "      <td>traffic</td>\n",
       "      <td>2328.7</td>\n",
       "      <td>36.485414</td>\n",
       "    </tr>\n",
       "    <tr>\n",
       "      <th>2992</th>\n",
       "      <td>STA-RS0039A</td>\n",
       "      <td>RS</td>\n",
       "      <td>147.0</td>\n",
       "      <td>suburban</td>\n",
       "      <td>background</td>\n",
       "      <td>151.3</td>\n",
       "      <td>18.065854</td>\n",
       "    </tr>\n",
       "  </tbody>\n",
       "</table>\n",
       "<p>2993 rows × 7 columns</p>\n",
       "</div>"
      ],
      "text/plain": [
       "     AirQualityStation Countrycode  Altitude        AreaType StationType  \\\n",
       "0       STA.DE_DEBW087          DE     798.0  rural-regional  background   \n",
       "1       STA.DE_DEBB067          DE      31.0        suburban  background   \n",
       "2       STA.DE_DEBB066          DE      52.0  rural-regional  background   \n",
       "3       STA.DE_DEBB065          DE     111.0  rural-regional  background   \n",
       "4       STA.DE_DEBB064          DE      75.0           urban  background   \n",
       "...                ...         ...       ...             ...         ...   \n",
       "2988    STA.DE_DENW136          DE      80.0           urban     traffic   \n",
       "2989       STA-RO0159A          RO      22.0           urban  background   \n",
       "2990    STA.DE_DERP041          DE      94.0           urban     traffic   \n",
       "2991    STA.DE_DENW112          DE      36.0           urban     traffic   \n",
       "2992       STA-RS0039A          RS     147.0        suburban  background   \n",
       "\n",
       "      PopulationDensity  no2_average  \n",
       "0                 262.1     7.242142  \n",
       "1                  94.6    13.814766  \n",
       "2                  76.2     8.665383  \n",
       "3                  84.0     9.190738  \n",
       "4                 609.9    13.122752  \n",
       "...                 ...          ...  \n",
       "2988             2095.7    51.258432  \n",
       "2989               59.2    32.352209  \n",
       "2990             2263.7    39.958452  \n",
       "2991             2328.7    36.485414  \n",
       "2992              151.3    18.065854  \n",
       "\n",
       "[2993 rows x 7 columns]"
      ]
     },
     "execution_count": 6,
     "metadata": {},
     "output_type": "execute_result"
    }
   ],
   "source": [
    "complete_df"
   ]
  },
  {
   "cell_type": "code",
   "execution_count": 7,
   "metadata": {},
   "outputs": [
    {
     "data": {
      "image/png": "[encoded data removed]",
      "text/plain": [
       "<Figure size 720x360 with 2 Axes>"
      ]
     },
     "metadata": {
      "needs_background": "light"
     },
     "output_type": "display_data"
    }
   ],
   "source": [
    "fig, (ax, ax1) = plt.subplots(1, 2, figsize=(10, 5))\n",
    "ax.scatter(complete_df.Altitude, complete_df.no2_average, s=4)\n",
    "ax.set_ylabel(\"no2 concentration\")\n",
    "ax.set_xlabel(\"Altitude\")\n",
    "\n",
    "ax1.scatter(complete_df.PopulationDensity, complete_df.no2_average, s=4)\n",
    "ax1.set_ylabel(\"no2 concentration\")\n",
    "ax1.set_xlabel(\"Population density\")\n",
    "\n",
    "\n",
    "plt.show()"
   ]
  },
  {
   "cell_type": "code",
   "execution_count": 9,
   "metadata": {},
   "outputs": [],
   "source": [
    "scaler = StandardScaler()\n",
    "scaler_target = StandardScaler()"
   ]
  },
  {
   "cell_type": "code",
   "execution_count": 10,
   "metadata": {},
   "outputs": [],
   "source": [
    "# add one-hot encoding\n",
    "X = pd.get_dummies(complete_df, columns=[\"Countrycode\", \"AreaType\", \"StationType\"], drop_first=False)\n",
    "X[[\"altitude_scaled\", \"population_density_scaled\"]] = pd.DataFrame(scaler.fit_transform(X[[\"Altitude\", \"PopulationDensity\"]]))\n",
    "X[\"no2_average_scaled\"] = scaler_target.fit_transform(X[\"no2_average\"].values.reshape(-1,1))\n",
    "\n",
    "X.drop([\"AirQualityStation\", \"Altitude\", \"PopulationDensity\"], axis=1, inplace=True)\n",
    "    \n",
    "train, test = train_test_split(X, test_size=0.4)\n",
    "test, val = train_test_split(test, test_size=0.5)"
   ]
  },
  {
   "cell_type": "code",
   "execution_count": 11,
   "metadata": {},
   "outputs": [],
   "source": [
    "train_data = xgb.DMatrix(data=train.drop([\"no2_average\", \"no2_average_scaled\"], axis=1), label=train.no2_average_scaled)\n",
    "test_data = xgb.DMatrix(data=test.drop([\"no2_average\", \"no2_average_scaled\"], axis=1), label=test.no2_average_scaled)\n",
    "val_data = xgb.DMatrix(data=val.drop([\"no2_average\", \"no2_average_scaled\"], axis=1), label=val.no2_average_scaled) "
   ]
  },
  {
   "cell_type": "code",
   "execution_count": 12,
   "metadata": {},
   "outputs": [],
   "source": [
    "param = {'max_depth': 8,\n",
    "         'eta': 0.4,\n",
    "         'gamma' : 10,\n",
    "         #'subsample' : 0.8,\n",
    "         'objective': 'reg:squarederror',\n",
    "        }\n",
    "\n",
    "param = {'eta': 0.4,\n",
    " 'gamma': 1,\n",
    " 'max_depth': 4,\n",
    " 'objective': 'reg:squarederror',\n",
    " 'subsample': 1}"
   ]
  },
  {
   "cell_type": "code",
   "execution_count": 13,
   "metadata": {},
   "outputs": [],
   "source": [
    "num_round = 50\n",
    "\n",
    "#bst = xgb.train(param, train_data, num_round, evals=[(val_data, \"validation\")], early_stopping_rounds=5)\n",
    "\n",
    "bst = xgb.train(param, train_data, num_round)"
   ]
  },
  {
   "cell_type": "code",
   "execution_count": 14,
   "metadata": {},
   "outputs": [],
   "source": [
    "ypred = scaler_target.inverse_transform(bst.predict(test_data).reshape(-1,1))\n",
    "ypred_train = scaler_target.inverse_transform(bst.predict(train_data).reshape(-1, 1))\n",
    "ypred_val = scaler_target.inverse_transform(bst.predict(val_data).reshape(-1, 1))"
   ]
  },
  {
   "cell_type": "code",
   "execution_count": 15,
   "metadata": {},
   "outputs": [
    {
     "data": {
      "image/png": "[encoded data removed]",
      "text/plain": [
       "<Figure size 1080x360 with 3 Axes>"
      ]
     },
     "metadata": {
      "needs_background": "light"
     },
     "output_type": "display_data"
    }
   ],
   "source": [
    "fig, (axl, axm, axr) = plt.subplots(1, 3, figsize=(15, 5))\n",
    "\n",
    "axl.scatter(test.no2_average, ypred, s=4)\n",
    "axl.plot((0, 100),(0, 100), c=\"red\")\n",
    "axl.set_xlim((0, 100))\n",
    "axl.set_ylim((0, 100))\n",
    "axl.set_title(\"Test set\")\n",
    "axl.set_xlabel(\"Measurement\")\n",
    "axl.set_ylabel(\"Estimate\")\n",
    "\n",
    "axm.scatter(val.no2_average, ypred_val, s=4)\n",
    "axm.plot((0, 100),(0,100), c=\"red\")\n",
    "axm.set_xlim((0, 100))\n",
    "axm.set_ylim((0, 100))\n",
    "axm.set_title(\"Validation set\")\n",
    "axm.set_xlabel(\"Measurement\")\n",
    "axm.set_ylabel(\"Estimate\")\n",
    "\n",
    "axr.scatter(train.no2_average, ypred_train, s=4)\n",
    "axr.plot((0,100),(0, 100), c=\"red\")\n",
    "axr.set_xlim((0, 100))\n",
    "axr.set_ylim((0, 100))\n",
    "axr.set_title(\"Train set\")\n",
    "axr.set_xlabel(\"Measurement\")\n",
    "axr.set_ylabel(\"Estimate\")\n",
    "plt.show()"
   ]
  },
  {
   "cell_type": "code",
   "execution_count": 16,
   "metadata": {},
   "outputs": [
    {
     "data": {
      "text/plain": [
       "{'StationType_traffic': 137.32810133,\n",
       " 'population_density_scaled': 13.814583945291671,\n",
       " 'AreaType_urban': 17.441720080625004,\n",
       " 'AreaType_suburban': 14.788402563333333,\n",
       " 'Countrycode_TR': 5.353738280857143,\n",
       " 'AreaType_rural': 8.8568251125,\n",
       " 'altitude_scaled': 2.867189493000001,\n",
       " 'Countrycode_ES': 4.11572199,\n",
       " 'Countrycode_GB': 3.3794813419999996,\n",
       " 'Countrycode_RO': 5.134659610000001,\n",
       " 'StationType_background': 2.0003216483333337,\n",
       " 'Countrycode_IT': 2.14827889,\n",
       " 'Countrycode_FR': 2.3268941233333336,\n",
       " 'Countrycode_PT': 3.63579798,\n",
       " 'Countrycode_BE': 3.20483923,\n",
       " 'Countrycode_AT': 1.5329579732499998,\n",
       " 'AreaType_rural-regional': 1.26997817,\n",
       " 'Countrycode_LU': 2.05209708,\n",
       " 'Countrycode_DK': 1.666780055,\n",
       " 'Countrycode_FI': 1.79401147,\n",
       " 'Countrycode_SE': 1.29277301,\n",
       " 'AreaType_rural-remote': 1.11320186,\n",
       " 'StationType_industrial': 2.36684799,\n",
       " 'Countrycode_DE': 1.03407049}"
      ]
     },
     "execution_count": 16,
     "metadata": {},
     "output_type": "execute_result"
    }
   ],
   "source": [
    "bst.get_score(importance_type=\"gain\")"
   ]
  },
  {
   "cell_type": "code",
   "execution_count": 17,
   "metadata": {},
   "outputs": [
    {
     "data": {
      "text/plain": [
       "('val:', 0.6172717801042351, 51.44630678628566, 5.469439069602618)"
      ]
     },
     "execution_count": 17,
     "metadata": {},
     "output_type": "execute_result"
    }
   ],
   "source": [
    "\"val:\", r2_score(val.no2_average, ypred_val), mean_squared_error(val.no2_average, ypred_val), mean_absolute_error(val.no2_average, ypred_val)"
   ]
  },
  {
   "cell_type": "code",
   "execution_count": 18,
   "metadata": {},
   "outputs": [
    {
     "data": {
      "text/plain": [
       "('test:', 0.6393855342807626, 47.84815440182478, 5.172275254411082)"
      ]
     },
     "execution_count": 18,
     "metadata": {},
     "output_type": "execute_result"
    }
   ],
   "source": [
    "\"test:\", r2_score(test.no2_average, ypred), mean_squared_error(test.no2_average, ypred), mean_absolute_error(test.no2_average, ypred)"
   ]
  },
  {
   "cell_type": "code",
   "execution_count": 19,
   "metadata": {},
   "outputs": [
    {
     "data": {
      "text/plain": [
       "('train:', 0.7399939169216627, 35.63573983937932, 4.511853889930106)"
      ]
     },
     "execution_count": 19,
     "metadata": {},
     "output_type": "execute_result"
    }
   ],
   "source": [
    "\"train:\", r2_score(train.no2_average, ypred_train), mean_squared_error(train.no2_average, ypred_train), mean_absolute_error(train.no2_average, ypred_train)"
   ]
  },
  {
   "cell_type": "code",
   "execution_count": 20,
   "metadata": {},
   "outputs": [],
   "source": [
    "test_data = np.array([test.no2_average.values.squeeze(), ypred.squeeze()])\n",
    "train_data = np.array([train.no2_average.values.squeeze(), ypred_train.squeeze()])"
   ]
  },
  {
   "cell_type": "code",
   "execution_count": 30,
   "metadata": {},
   "outputs": [],
   "source": [
    "# save predictions\n",
    "np.save(f\"../data_figures/test_local_whole_timespan.npy\", test_data)\n",
    "np.save(f\"../data_figures/train_local_whole_timespan.npy\", train_data)"
   ]
  },
  {
   "cell_type": "markdown",
   "metadata": {},
   "source": [
    "# CV"
   ]
  },
  {
   "cell_type": "code",
   "execution_count": 14,
   "metadata": {},
   "outputs": [],
   "source": [
    "param_grid = {'max_depth': [4,5,6,8],#[,\n",
    "         'eta': [0.4, 0.5, 0.6],# 0.1, 0.3, 0.4, 0.5, 0.8, 0.9, 0.99],\n",
    "         'gamma' : [0, 1, 5, 10, 20, 30],# 0.2, 0.5, 0.8, 0.9, 0.99],\n",
    "         'subsample' : [0.6, 0.7, 0.8, 0.9, 1],\n",
    "         'objective': ['reg:squarederror'],#, 'reg:squaredlogerror', \"reg:pseudohubererror\"],\n",
    "        # \"tree_method\" : [\"hist\"],\n",
    "        }"
   ]
  },
  {
   "cell_type": "code",
   "execution_count": 15,
   "metadata": {},
   "outputs": [],
   "source": [
    "xg = xgb.XGBRegressor()\n",
    "best_xgb = GridSearchCV(xg, param_grid=param_grid, cv=5, verbose=1)"
   ]
  },
  {
   "cell_type": "code",
   "execution_count": 16,
   "metadata": {},
   "outputs": [
    {
     "data": {
      "text/plain": [
       "GridSearchCV(cv=5,\n",
       "             estimator=XGBRegressor(base_score=None, booster=None,\n",
       "                                    colsample_bylevel=None,\n",
       "                                    colsample_bynode=None,\n",
       "                                    colsample_bytree=None, gamma=None,\n",
       "                                    gpu_id=None, importance_type='gain',\n",
       "                                    interaction_constraints=None,\n",
       "                                    learning_rate=None, max_delta_step=None,\n",
       "                                    max_depth=None, min_child_weight=None,\n",
       "                                    missing=nan, monotone_constraints=None,\n",
       "                                    n_estimators=100, n_jobs=None,\n",
       "                                    num_parallel_tree=None, random_state=None,\n",
       "                                    reg_alpha=None, reg_lambda=None,\n",
       "                                    scale_pos_weight=None, subsample=None,\n",
       "                                    tree_method=None, validate_parameters=None,\n",
       "                                    verbosity=None),\n",
       "             param_grid={'eta': [0.4, 0.5, 0.6], 'gamma': [0, 1, 5, 10, 20, 30],\n",
       "                         'max_depth': [4, 5, 6, 8],\n",
       "                         'objective': ['reg:squarederror'],\n",
       "                         'subsample': [0.6, 0.7, 0.8, 0.9, 1]},\n",
       "             verbose=1)"
      ]
     },
     "execution_count": 16,
     "metadata": {},
     "output_type": "execute_result"
    }
   ],
   "source": [
    "best_xgb"
   ]
  },
  {
   "cell_type": "code",
   "execution_count": 17,
   "metadata": {},
   "outputs": [
    {
     "name": "stdout",
     "output_type": "stream",
     "text": [
      "Fitting 5 folds for each of 360 candidates, totalling 1800 fits\n"
     ]
    },
    {
     "name": "stderr",
     "output_type": "stream",
     "text": [
      "[Parallel(n_jobs=1)]: Using backend SequentialBackend with 1 concurrent workers.\n",
      "[Parallel(n_jobs=1)]: Done 1800 out of 1800 | elapsed:  4.8min finished\n"
     ]
    },
    {
     "data": {
      "text/plain": [
       "GridSearchCV(cv=5,\n",
       "             estimator=XGBRegressor(base_score=None, booster=None,\n",
       "                                    colsample_bylevel=None,\n",
       "                                    colsample_bynode=None,\n",
       "                                    colsample_bytree=None, gamma=None,\n",
       "                                    gpu_id=None, importance_type='gain',\n",
       "                                    interaction_constraints=None,\n",
       "                                    learning_rate=None, max_delta_step=None,\n",
       "                                    max_depth=None, min_child_weight=None,\n",
       "                                    missing=nan, monotone_constraints=None,\n",
       "                                    n_estimators=100, n_jobs=None,\n",
       "                                    num_parallel_tree=None, random_state=None,\n",
       "                                    reg_alpha=None, reg_lambda=None,\n",
       "                                    scale_pos_weight=None, subsample=None,\n",
       "                                    tree_method=None, validate_parameters=None,\n",
       "                                    verbosity=None),\n",
       "             param_grid={'eta': [0.4, 0.5, 0.6], 'gamma': [0, 1, 5, 10, 20, 30],\n",
       "                         'max_depth': [4, 5, 6, 8],\n",
       "                         'objective': ['reg:squarederror'],\n",
       "                         'subsample': [0.6, 0.7, 0.8, 0.9, 1]},\n",
       "             verbose=1)"
      ]
     },
     "execution_count": 17,
     "metadata": {},
     "output_type": "execute_result"
    }
   ],
   "source": [
    "#complete_df[\"road_distance_osm_scaled\"] = scaler.fit_transform(np.array(complete_df.road_distance_osm).reshape(-1,1))\n",
    "\n",
    "best_xgb.fit(X.drop([\"no2_average\", \"no2_average_scaled\"], axis=1), X.no2_average_scaled)"
   ]
  },
  {
   "cell_type": "code",
   "execution_count": 18,
   "metadata": {},
   "outputs": [],
   "source": [
    "#best_xgb.cv_results_\n",
    "best_idx = best_xgb.cv_results_[\"rank_test_score\"].argmin()\n",
    "best_params = best_xgb.cv_results_[\"params\"][best_idx]\n",
    "best_score = best_xgb.cv_results_[\"mean_test_score\"][best_idx]\n",
    "best_score_std = best_xgb.cv_results_[\"std_test_score\"][best_idx]"
   ]
  },
  {
   "cell_type": "code",
   "execution_count": 19,
   "metadata": {},
   "outputs": [
    {
     "name": "stdout",
     "output_type": "stream",
     "text": [
      "0.6248516112273425 +- 0.03489459109226111\n"
     ]
    }
   ],
   "source": [
    "print(best_score, \"+-\", best_score_std)"
   ]
  },
  {
   "cell_type": "code",
   "execution_count": 20,
   "metadata": {},
   "outputs": [
    {
     "data": {
      "text/plain": [
       "{'eta': 0.4,\n",
       " 'gamma': 1,\n",
       " 'max_depth': 4,\n",
       " 'objective': 'reg:squarederror',\n",
       " 'subsample': 1}"
      ]
     },
     "execution_count": 20,
     "metadata": {},
     "output_type": "execute_result"
    }
   ],
   "source": [
    "best_params"
   ]
  },
  {
   "cell_type": "code",
   "execution_count": null,
   "metadata": {},
   "outputs": [],
   "source": []
  }
 ],
 "metadata": {
  "kernelspec": {
   "display_name": "atmos-env",
   "language": "python",
   "name": "atmos-env"
  },
  "language_info": {
   "codemirror_mode": {
    "name": "ipython",
    "version": 3
   },
   "file_extension": ".py",
   "mimetype": "text/x-python",
   "name": "python",
   "nbconvert_exporter": "python",
   "pygments_lexer": "ipython3",
   "version": "3.8.2"
  }
 },
 "nbformat": 4,
 "nbformat_minor": 4
}
